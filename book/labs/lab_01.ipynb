{
  "cells": [
    {
      "cell_type": "markdown",
      "id": "0",
      "metadata": {
        "id": "0"
      },
      "source": [
        "# Lab 1\n",
        "\n",
        "[![Open In Colab](https://colab.research.google.com/assets/colab-badge.svg)](https://colab.research.google.com/github/giswqs/geog-312/blob/main/book/labs/lab_01.ipynb)"
      ]
    },
    {
      "cell_type": "markdown",
      "id": "1",
      "metadata": {
        "id": "1"
      },
      "source": [
        "## Exercise 1: Variable Assignment and Basic Operations\n",
        "\n",
        "Create variables to store the following geospatial data:\n",
        "\n",
        "- The latitude and longitude of New York City: 40.7128, -74.0060.\n",
        "- The population of New York City: 8,336,817.\n",
        "- The area of New York City in square kilometers: 783.8.\n",
        "\n",
        "Perform the following tasks:\n",
        "\n",
        "1. Calculate and print the population density of New York City (population per square kilometer).\n",
        "2. Print the coordinates in the format \"Latitude: [latitude], Longitude: [longitude]\"."
      ]
    },
    {
      "cell_type": "code",
      "source": [
        "# Assign values to variables\n",
        "latitude = 40.7128\n",
        "longitude = -74.0060\n",
        "population = 8336817\n",
        "area = 783.8\n",
        "\n",
        "# Calculate population density\n",
        "population_density = population / area\n",
        "\n",
        "# Print the population density\n",
        "print(\"Population Density:\", population_density)\n",
        "\n",
        "# Print the coordinates\n",
        "print(\"Latitude:\", latitude, \", Longitude:\", longitude)"
      ],
      "metadata": {
        "id": "YGO7RRO6LCp3",
        "outputId": "664f51e8-7847-4ea5-e0d6-a36f28343fbc",
        "colab": {
          "base_uri": "https://localhost:8080/"
        }
      },
      "id": "YGO7RRO6LCp3",
      "execution_count": 1,
      "outputs": [
        {
          "output_type": "stream",
          "name": "stdout",
          "text": [
            "Population Density: 10636.408522582293\n",
            "Latitude: 40.7128 , Longitude: -74.006\n"
          ]
        }
      ]
    },
    {
      "cell_type": "markdown",
      "id": "3",
      "metadata": {
        "id": "3"
      },
      "source": [
        "## Exercise 2: Working with Strings\n",
        "\n",
        "Create a string variable to store the name of a city, such as \"San Francisco\". Perform the following operations:\n",
        "\n",
        "1. Convert the string to lowercase and print the result.\n",
        "2. Convert the string to uppercase and print the result.\n",
        "3. Replace \"San\" with \"Los\" in the city name and print the new string."
      ]
    },
    {
      "cell_type": "code",
      "execution_count": 2,
      "id": "4",
      "metadata": {
        "id": "4",
        "outputId": "cafa8d1e-c68f-4abc-d151-8d1e1575bde4",
        "colab": {
          "base_uri": "https://localhost:8080/"
        }
      },
      "outputs": [
        {
          "output_type": "stream",
          "name": "stdout",
          "text": [
            "Lowercase: san francisco\n",
            "Uppercase: SAN FRANCISCO\n",
            "Replaced: Los Francisco\n"
          ]
        }
      ],
      "source": [
        "# Create a string variable\n",
        "city_name = \"San Francisco\"\n",
        "\n",
        "# Convert to lowercase and print\n",
        "lowercase_name = city_name.lower()\n",
        "print(\"Lowercase:\", lowercase_name)\n",
        "\n",
        "# Convert to uppercase and print\n",
        "uppercase_name = city_name.upper()\n",
        "print(\"Uppercase:\", uppercase_name)\n",
        "\n",
        "# Replace \"San\" with \"Los\" and print\n",
        "new_name = city_name.replace(\"San\", \"Los\")\n",
        "print(\"Replaced:\", new_name)"
      ]
    },
    {
      "cell_type": "markdown",
      "id": "5",
      "metadata": {
        "id": "5"
      },
      "source": [
        "## Exercise 3: Using Lists\n",
        "\n",
        "Create a list of tuples, where each tuple contains the name of a city and its corresponding latitude and longitude:\n",
        "\n",
        "- New York City: (40.7128, -74.0060)\n",
        "- Los Angeles: (34.0522, -118.2437)\n",
        "- Chicago: (41.8781, -87.6298)\n",
        "\n",
        "Perform the following tasks:\n",
        "\n",
        "1. Add a new city (e.g., Miami: (25.7617, -80.1918)) to the list.\n",
        "2. Print the entire list of cities.\n",
        "3. Slice the list to print only the first two cities."
      ]
    },
    {
      "cell_type": "code",
      "execution_count": 3,
      "id": "6",
      "metadata": {
        "id": "6",
        "outputId": "bad4bc7f-1f1b-446d-e42c-8f371a0264b1",
        "colab": {
          "base_uri": "https://localhost:8080/"
        }
      },
      "outputs": [
        {
          "output_type": "stream",
          "name": "stdout",
          "text": [
            "All cities: [('New York City', 40.7128, -74.006), ('Los Angeles', 34.0522, -118.2437), ('Chicago', 41.8781, -87.6298), ('Miami', 25.7617, -80.1918)]\n",
            "First two cities: [('New York City', 40.7128, -74.006), ('Los Angeles', 34.0522, -118.2437)]\n"
          ]
        }
      ],
      "source": [
        "# Create a list of tuples\n",
        "cities = [\n",
        "    (\"New York City\", 40.7128, -74.0060),\n",
        "    (\"Los Angeles\", 34.0522, -118.2437),\n",
        "    (\"Chicago\", 41.8781, -87.6298)\n",
        "]\n",
        "\n",
        "# Add a new city\n",
        "cities.append((\"Miami\", 25.7617, -80.1918))\n",
        "\n",
        "# Print the entire list\n",
        "print(\"All cities:\", cities)\n",
        "\n",
        "# Print the first two cities\n",
        "print(\"First two cities:\", cities[:2])"
      ]
    },
    {
      "cell_type": "markdown",
      "id": "7",
      "metadata": {
        "id": "7"
      },
      "source": [
        "## Exercise 4: Using Tuples\n",
        "\n",
        "Create a tuple to store the coordinates (latitude, longitude) of the Eiffel Tower: (48.8584, 2.2945). Perform the following tasks:\n",
        "\n",
        "1. Access and print the latitude and longitude values from the tuple.\n",
        "2. Try to change the latitude value to 48.8585. What happens? Explain why."
      ]
    },
    {
      "cell_type": "code",
      "execution_count": 4,
      "id": "8",
      "metadata": {
        "id": "8",
        "outputId": "2df181f7-0164-43cb-a66e-8838820ce178",
        "colab": {
          "base_uri": "https://localhost:8080/"
        }
      },
      "outputs": [
        {
          "output_type": "stream",
          "name": "stdout",
          "text": [
            "Latitude: 48.8584\n",
            "Longitude: 2.2945\n"
          ]
        }
      ],
      "source": [
        "# Create a tuple for Eiffel Tower coordinates\n",
        "eiffel_tower_coords = (48.8584, 2.2945)\n",
        "\n",
        "# Access and print latitude and longitude\n",
        "latitude = eiffel_tower_coords[0]\n",
        "longitude = eiffel_tower_coords[1]\n",
        "\n",
        "print(\"Latitude:\", latitude)\n",
        "print(\"Longitude:\", longitude)\n",
        "\n",
        "# Try to change the latitude (this will cause an error)\n",
        "# eiffel_tower_coords[0] = 48.8585\n",
        "# print(eiffel_tower_coords)"
      ]
    },
    {
      "cell_type": "markdown",
      "id": "9",
      "metadata": {
        "id": "9"
      },
      "source": [
        "## Exercise 5: Working with Sets\n",
        "\n",
        "Create a set of countries you have visited, such as {\"USA\", \"France\", \"Germany\"}. Perform the following tasks:\n",
        "\n",
        "1. Add a new country to the set.\n",
        "2. Try to add the same country again. What happens?\n",
        "3. Print the updated set."
      ]
    },
    {
      "cell_type": "code",
      "execution_count": 5,
      "id": "10",
      "metadata": {
        "id": "10",
        "outputId": "bddca3e2-8bdc-437f-8c6a-34df159e1db5",
        "colab": {
          "base_uri": "https://localhost:8080/"
        }
      },
      "outputs": [
        {
          "output_type": "stream",
          "name": "stdout",
          "text": [
            "{'Italy', 'Germany', 'USA', 'France'}\n"
          ]
        }
      ],
      "source": [
        "# Create a set of countries\n",
        "visited_countries = {\"USA\", \"France\", \"Germany\"}\n",
        "\n",
        "# Add a new country\n",
        "visited_countries.add(\"Italy\")\n",
        "\n",
        "# Try to add the same country again (nothing happens)\n",
        "visited_countries.add(\"Italy\")\n",
        "\n",
        "# Print the updated set\n",
        "print(visited_countries)"
      ]
    },
    {
      "cell_type": "markdown",
      "id": "11",
      "metadata": {
        "id": "11"
      },
      "source": [
        "## Exercise 6: Working with Dictionaries\n",
        "\n",
        "Create a dictionary to store information about a specific geospatial feature, such as a river:\n",
        "\n",
        "- Name: \"Amazon River\"\n",
        "- Length: 6400 km\n",
        "- Countries: [\"Brazil\", \"Peru\", \"Colombia\"]\n",
        "\n",
        "Perform the following tasks:\n",
        "\n",
        "1. Add a new key-value pair to the dictionary to store the river's average discharge (e.g., 209,000 m³/s).\n",
        "2. Update the length of the river to 6992 km.\n",
        "3. Print the dictionary."
      ]
    },
    {
      "cell_type": "code",
      "execution_count": 6,
      "id": "12",
      "metadata": {
        "id": "12",
        "outputId": "d69a8956-2b1c-4db5-8f02-4575c49d8d60",
        "colab": {
          "base_uri": "https://localhost:8080/"
        }
      },
      "outputs": [
        {
          "output_type": "stream",
          "name": "stdout",
          "text": [
            "{'Name': 'Amazon River', 'Length': 6992, 'Countries': ['Brazil', 'Peru', 'Colombia'], 'Average Discharge': 209000}\n"
          ]
        }
      ],
      "source": [
        "# Create a dictionary for the river\n",
        "river = {\n",
        "    \"Name\": \"Amazon River\",\n",
        "    \"Length\": 6400,\n",
        "    \"Countries\": [\"Brazil\", \"Peru\", \"Colombia\"]\n",
        "}\n",
        "\n",
        "# Add average discharge\n",
        "river[\"Average Discharge\"] = 209000\n",
        "\n",
        "# Update the length\n",
        "river[\"Length\"] = 6992\n",
        "\n",
        "# Print the dictionary\n",
        "print(river)"
      ]
    },
    {
      "cell_type": "markdown",
      "id": "13",
      "metadata": {
        "id": "13"
      },
      "source": [
        "## Exercise 7: Nested Data Structures\n",
        "\n",
        "Create a dictionary to represent a city that contains the city's name, population, and coordinates (latitude, longitude):\n",
        "\n",
        "- Name: \"Tokyo\"\n",
        "- Population: 13,515,271\n",
        "- Coordinates: (35.6895, 139.6917)\n",
        "\n",
        "Perform the following tasks:\n",
        "\n",
        "1. Access and print the population of the city.\n",
        "2. Access and print the city's latitude.\n",
        "3. Update the population to 14,000,000 and print the updated dictionary."
      ]
    },
    {
      "cell_type": "code",
      "execution_count": 7,
      "id": "14",
      "metadata": {
        "id": "14",
        "outputId": "a49d8f63-c50c-4baa-8fbb-0340f7786738",
        "colab": {
          "base_uri": "https://localhost:8080/"
        }
      },
      "outputs": [
        {
          "output_type": "stream",
          "name": "stdout",
          "text": [
            "Population: 13515271\n",
            "Latitude: 35.6895\n",
            "Updated city data: {'Name': 'Tokyo', 'Population': 14000000, 'Coordinates': (35.6895, 139.6917)}\n"
          ]
        }
      ],
      "source": [
        "# Create a dictionary for Tokyo\n",
        "city = {\n",
        "    \"Name\": \"Tokyo\",\n",
        "    \"Population\": 13515271,\n",
        "    \"Coordinates\": (35.6895, 139.6917)\n",
        "}\n",
        "\n",
        "# Access and print the population\n",
        "population = city[\"Population\"]\n",
        "print(\"Population:\", population)\n",
        "\n",
        "# Access and print the latitude\n",
        "latitude = city[\"Coordinates\"][0]  # Accessing the first element of the coordinates tuple\n",
        "print(\"Latitude:\", latitude)\n",
        "\n",
        "# Update the population\n",
        "city[\"Population\"] = 14000000\n",
        "\n",
        "# Print the updated dictionary\n",
        "print(\"Updated city data:\", city)"
      ]
    },
    {
      "cell_type": "markdown",
      "id": "15",
      "metadata": {
        "id": "15"
      },
      "source": [
        "## Exercise 8: List Operations\n",
        "\n",
        "Given the list of cities from Exercise 3, perform the following operations:\n",
        "\n",
        "1. Sort the list of cities alphabetically by name.\n",
        "2. Create a new list that contains only the city names.\n",
        "3. Remove the last city from the original list and print the updated list."
      ]
    },
    {
      "cell_type": "code",
      "execution_count": 8,
      "id": "16",
      "metadata": {
        "id": "16",
        "outputId": "63254624-8bf3-45c2-aea2-62dae25b42a2",
        "colab": {
          "base_uri": "https://localhost:8080/"
        }
      },
      "outputs": [
        {
          "output_type": "stream",
          "name": "stdout",
          "text": [
            "Sorted cities: [('Chicago', 41.8781, -87.6298), ('Los Angeles', 34.0522, -118.2437), ('Miami', 25.7617, -80.1918), ('New York City', 40.7128, -74.006)]\n",
            "City names: ['Chicago', 'Los Angeles', 'Miami', 'New York City']\n",
            "Updated cities: [('Chicago', 41.8781, -87.6298), ('Los Angeles', 34.0522, -118.2437), ('Miami', 25.7617, -80.1918)]\n"
          ]
        }
      ],
      "source": [
        "# Assuming 'cities' list from Exercise 3 is available\n",
        "\n",
        "# Sort the list of cities alphabetically by name\n",
        "cities.sort(key=lambda city: city[0])\n",
        "print(\"Sorted cities:\", cities)\n",
        "\n",
        "# Create a new list that contains only the city names\n",
        "city_names = [city[0] for city in cities]\n",
        "print(\"City names:\", city_names)\n",
        "\n",
        "# Remove the last city from the original list and print the updated list\n",
        "cities.pop()\n",
        "print(\"Updated cities:\", cities)"
      ]
    },
    {
      "cell_type": "markdown",
      "id": "17",
      "metadata": {
        "id": "17"
      },
      "source": [
        "## Exercise 9: Dictionary Operations\n",
        "\n",
        "Using the dictionary from Exercise 6, perform the following tasks:\n",
        "\n",
        "1. Check if the key \"Length\" exists in the dictionary.\n",
        "2. Print all the keys in the dictionary.\n",
        "3. Print all the values in the dictionary."
      ]
    },
    {
      "cell_type": "code",
      "execution_count": 9,
      "id": "18",
      "metadata": {
        "id": "18",
        "outputId": "85635d8d-e789-4382-838e-023c18d139c2",
        "colab": {
          "base_uri": "https://localhost:8080/"
        }
      },
      "outputs": [
        {
          "output_type": "stream",
          "name": "stdout",
          "text": [
            "Sorted cities: [('Chicago', 41.8781, -87.6298), ('Los Angeles', 34.0522, -118.2437), ('Miami', 25.7617, -80.1918)]\n",
            "City names: ['Chicago', 'Los Angeles', 'Miami']\n",
            "Updated cities: [('Chicago', 41.8781, -87.6298), ('Los Angeles', 34.0522, -118.2437)]\n"
          ]
        }
      ],
      "source": [
        "# Assuming 'cities' list from Exercise 3 is available\n",
        "\n",
        "# Sort the list of cities alphabetically by name\n",
        "cities.sort(key=lambda city: city[0])\n",
        "print(\"Sorted cities:\", cities)\n",
        "\n",
        "# Create a new list that contains only the city names\n",
        "city_names = [city[0] for city in cities]\n",
        "print(\"City names:\", city_names)\n",
        "\n",
        "# Remove the last city from the original list and print the updated list\n",
        "cities.pop()\n",
        "print(\"Updated cities:\", cities)"
      ]
    },
    {
      "cell_type": "markdown",
      "id": "19",
      "metadata": {
        "id": "19"
      },
      "source": [
        "## Exercise 10: Practical Application\n",
        "\n",
        "Imagine you have a list of tuples, each representing a location with its name, latitude, and longitude:"
      ]
    },
    {
      "cell_type": "code",
      "execution_count": 10,
      "id": "20",
      "metadata": {
        "id": "20"
      },
      "outputs": [],
      "source": [
        "locations = [\n",
        "    (\"Mount Everest\", 27.9881, 86.9250),\n",
        "    (\"K2\", 35.8808, 76.5155),\n",
        "    (\"Kangchenjunga\", 27.7025, 88.1475),\n",
        "]"
      ]
    },
    {
      "cell_type": "markdown",
      "id": "21",
      "metadata": {
        "id": "21"
      },
      "source": [
        "Perform the following tasks:\n",
        "\n",
        "1. Create a new list that contains only the names of the locations.\n",
        "2. Create a dictionary where the keys are location names and the values are tuples of their coordinates.\n",
        "3. Print the latitude of \"K2\" using the dictionary."
      ]
    },
    {
      "cell_type": "code",
      "execution_count": 11,
      "id": "22",
      "metadata": {
        "id": "22",
        "outputId": "e7111e38-4b72-444e-cdc1-a0de66dbdef3",
        "colab": {
          "base_uri": "https://localhost:8080/"
        }
      },
      "outputs": [
        {
          "output_type": "stream",
          "name": "stdout",
          "text": [
            "Location names: ['Mount Everest', 'K2', 'Kangchenjunga']\n",
            "Location coordinates: {'Mount Everest': (27.9881, 86.925), 'K2': (35.8808, 76.5155), 'Kangchenjunga': (27.7025, 88.1475)}\n",
            "Latitude of K2: 35.8808\n"
          ]
        }
      ],
      "source": [
        "locations = [\n",
        "    (\"Mount Everest\", 27.9881, 86.9250),\n",
        "    (\"K2\", 35.8808, 76.5155),\n",
        "    (\"Kangchenjunga\", 27.7025, 88.1475),\n",
        "]\n",
        "\n",
        "# 1. Create a new list that contains only the names of the locations.\n",
        "location_names = [location[0] for location in locations]\n",
        "print(\"Location names:\", location_names)\n",
        "\n",
        "# 2. Create a dictionary where the keys are location names and the values are tuples of their coordinates.\n",
        "location_coords = {location[0]: (location[1], location[2]) for location in locations}\n",
        "print(\"Location coordinates:\", location_coords)\n",
        "\n",
        "# 3. Print the latitude of \"K2\" using the dictionary.\n",
        "k2_latitude = location_coords[\"K2\"][0]  # Access the tuple for \"K2\" and then its first element (latitude)\n",
        "print(\"Latitude of K2:\", k2_latitude)"
      ]
    }
  ],
  "metadata": {
    "kernelspec": {
      "display_name": "Python 3",
      "language": "python",
      "name": "python3"
    },
    "language_info": {
      "codemirror_mode": {
        "name": "ipython",
        "version": 3
      },
      "file_extension": ".py",
      "mimetype": "text/x-python",
      "name": "python",
      "nbconvert_exporter": "python",
      "pygments_lexer": "ipython3",
      "version": "3.11.8"
    },
    "colab": {
      "provenance": []
    }
  },
  "nbformat": 4,
  "nbformat_minor": 5
}